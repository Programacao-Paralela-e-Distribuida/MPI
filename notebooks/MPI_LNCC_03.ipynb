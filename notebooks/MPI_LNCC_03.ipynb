{
  "nbformat": 4,
  "nbformat_minor": 0,
  "metadata": {
    "colab": {
      "provenance": []
    },
    "kernelspec": {
      "name": "python3",
      "display_name": "Python 3"
    },
    "language_info": {
      "name": "python"
    }
  },
  "cells": [
    {
      "cell_type": "markdown",
      "source": [
        "# Estudos de caso\n",
        "\n",
        "Neste notebook vamos apresentar alguns exemplos de aplicações bem simples.\n",
        "\n",
        "Não se esqueça de configurar o ambiente de execução para v2-8 TPU"
      ],
      "metadata": {
        "id": "2ojDJbzmIR9-"
      }
    },
    {
      "cell_type": "code",
      "execution_count": 40,
      "metadata": {
        "colab": {
          "base_uri": "https://localhost:8080/"
        },
        "id": "t7V9XGEwCkoh",
        "outputId": "bf5e6b9c-1c78-41bf-8e56-f6e0ba607509"
      },
      "outputs": [
        {
          "output_type": "stream",
          "name": "stdout",
          "text": [
            "Cloning into 'MPI'...\n",
            "remote: Enumerating objects: 146, done.\u001b[K\n",
            "remote: Counting objects: 100% (26/26), done.\u001b[K\n",
            "remote: Compressing objects: 100% (21/21), done.\u001b[K\n",
            "remote: Total 146 (delta 10), reused 5 (delta 5), pack-reused 120 (from 1)\u001b[K\n",
            "Receiving objects: 100% (146/146), 3.94 MiB | 10.52 MiB/s, done.\n",
            "Resolving deltas: 100% (75/75), done.\n"
          ]
        }
      ],
      "source": [
        "!git clone https://github.com/Programacao-Paralela-e-Distribuida/MPI"
      ]
    },
    {
      "cell_type": "code",
      "source": [
        "!mv MPI/* .\n",
        "!rm -rf MPI\n",
        "!ls"
      ],
      "metadata": {
        "colab": {
          "base_uri": "https://localhost:8080/"
        },
        "id": "ny7nKgHXCux8",
        "outputId": "44f606c3-6cc2-4cf6-c0f7-e558b76eeb00"
      },
      "execution_count": 41,
      "outputs": [
        {
          "output_type": "stream",
          "name": "stdout",
          "text": [
            "Makefile  README.md  bin  docs\tjupiter  lncc  requirements.txt  src\r\n"
          ]
        }
      ]
    },
    {
      "cell_type": "markdown",
      "source": [],
      "metadata": {
        "id": "J0PYqCYnIHJH"
      }
    },
    {
      "cell_type": "markdown",
      "source": [
        "#Método do trapézio\n",
        "\n",
        "O valor de uma integral definida pode ser aproximado por vários métodos numéricos.  Um dos métodos mais utilizados é o método do trapézio, onde o valor da integral de uma função, que é definido como a área sob a curva da função até o eixo x, é aproximado pela soma da área de diversos trapézios, segundo a fórmula:\n",
        "\n",
        "$\n",
        "\\int_a^b f(x) \\, dx \\approx h \\times \\left[ \\frac{f(x_0)}{2} + \\sum_{i=1}^{n-1} f(x_i) + \\frac{f(x_n)}{2} \\right],\n",
        "$\n",
        "\n",
        "onde:\n",
        "\n",
        "- $a$ e $b$ são os limites de integração.\n",
        "- $n$ é o número de subintervalos.\n",
        "- $h = \\frac{b-a}{n}$ é a largura de cada subintervalo.\n",
        "- $x_0 = a$, $x_n = b$, e $x_i = a + i \\cdot h$ para $i = 1, 2, \\dots, n-1$.\n",
        "\n",
        "No exemplo as seguir, vamos assumir $f(x) = exp (x)$. Os limites utilizados serão $a = 0$ e $b = 1$, então $exp(0) = 1$ e $exp(1)= 2,718282$, então o valor aproximado desta integral é $1,718282$.\n",
        "\n",
        "Na paralelização deste algoritmo, uma melhor forma de distribuição é atribuir o cálculo de $f(x_i)$ alternadamente a cada processo. Deste modo temos:\n"
      ],
      "metadata": {
        "id": "GgHMaXjWDCJm"
      }
    },
    {
      "cell_type": "code",
      "source": [
        "!cat src/mpi_trapezio.c\n"
      ],
      "metadata": {
        "colab": {
          "base_uri": "https://localhost:8080/"
        },
        "id": "XtSkLo9hGWmW",
        "outputId": "977b75b3-6b3d-413f-9613-856f12a00ed4"
      },
      "execution_count": 42,
      "outputs": [
        {
          "output_type": "stream",
          "name": "stdout",
          "text": [
            "#include <stdio.h>\r\n",
            "#include <math.h>\r\n",
            "#include \"mpi.h\"\r\n",
            "\r\n",
            "double f(double x) {\r\n",
            "        double return_val;\r\n",
            "        return_val = exp(x); /* Função exponencial */\r\n",
            "        return return_val;\r\n",
            "}\r\n",
            "\r\n",
            "int main(int argc, char *argv[]) { /* mpi_trapezio.c  */\r\n",
            "int meu_ranque, num_procs;  /* respectivamente q e p */\r\n",
            "double a = 0.0,  b = 1.0;   /* Limites da integral */\r\n",
            "double tempo_inicial, tempo_final; /* Tempo de execução */\r\n",
            "long int n = 100000000;     /* Número de trapezoides */\r\n",
            "double x, h;                /* x e h, a base do trapezoide */\r\n",
            "double integral=0.0, total; /* Integral de cada processo e total */\r\n",
            "int origem, destino = 0;    /* Origem e destino das mensagens */\r\n",
            "int etiq = 3;               /* Uma etiqueta qualquer */\r\n",
            "\r\n",
            "    /* Inicia o MPI e determina o ranque e o número de processos ativos  */\r\n",
            "    MPI_Init(&argc, &argv);\r\n",
            "    MPI_Comm_rank(MPI_COMM_WORLD, &meu_ranque);\r\n",
            "    MPI_Comm_size(MPI_COMM_WORLD, &num_procs);\r\n",
            "    /* h é o mesmo para todos os processos */\r\n",
            "    h = (b - a)/n;   \r\n",
            "    /* O processo 0 calcula o valor de f(x)/2 em a e b */\r\n",
            "    if (meu_ranque == 0) {\r\n",
            "        tempo_inicial = MPI_Wtime(); \r\n",
            "        integral = (f(a) + f(b))/2.0;\r\n",
            "    }\r\n",
            "    /* Cada processo calcula a integral aprox. sobre n/num_procs trapézios */ \r\n",
            "    for (x = a+h*(meu_ranque+1); x < b ; x += num_procs*h) {\r\n",
            "         integral += f(x);\r\n",
            "    }\r\n",
            "    integral = integral*h;\r\n",
            "    /* O processo 0 soma as integrais parciais recebidas */\r\n",
            "    if (meu_ranque == 0) { \r\n",
            "        total = integral; \r\n",
            "        for (origem = 1; origem < num_procs; origem++) { \r\n",
            "             MPI_Recv(&integral, 1, MPI_DOUBLE, origem, etiq, MPI_COMM_WORLD, MPI_STATUS_IGNORE);\r\n",
            "             total += integral; \r\n",
            "        }\r\n",
            "    } \r\n",
            "     /* Os demais processos enviam as integrais parciais para o processo 0 */\r\n",
            "    else {\r\n",
            "        MPI_Send(&integral, 1, MPI_DOUBLE, destino, etiq, MPI_COMM_WORLD);\r\n",
            "    }\r\n",
            "    /* Imprime o resultado */\r\n",
            "    if (meu_ranque == 0) {\r\n",
            "        tempo_final = MPI_Wtime();\r\n",
            "        printf(\"Foram gastos %3.1f segundos\\n\",tempo_final-tempo_inicial);\r\n",
            "        printf(\"Com n = %ld trapezoides, a estimativa\\n\", n);\r\n",
            "        printf(\"da integral de %lf até %lf = %lf \\n\", a, b, total);\r\n",
            "    }\r\n",
            "    MPI_Finalize();\r\n",
            "    return(0);\r\n",
            "} \r\n"
          ]
        }
      ]
    },
    {
      "cell_type": "markdown",
      "source": [
        "Aqui você pode subsituir N por um número que dê um tempo de execução de pelo menos alguns segundos. Isso depende da máquina que estiver executando. Se necesssário adicione a opção *--allow-run-as-root* ao comando *mpirun*. O número máximo de núcleos que você vai utilizar depende também da configuração da máquina que você estiver utilizando.\n",
        "\n",
        "Elabore um gráfico de speed-up e eficiência com os resultados obtidos."
      ],
      "metadata": {
        "id": "YtN6RWTYpdIY"
      }
    },
    {
      "cell_type": "code",
      "source": [
        "\n",
        "!mpicc src/mpi_trapezio.c -o bin/mpi_trapezio -lm\n",
        "!mpirun -np 2 ./bin/mpi_trapezio\n",
        "!mpirun -np 4 ./bin/mpi_trapezio\n",
        "!mpirun -np 8 ./bin/mpi_trapezio\n",
        "!mpirun -np 10 ./bin/mpi_trapezio\n",
        "!mpirun -np 12 ./bin/mpi_trapezio\n",
        "!mpirun -np 14 ./bin/mpi_trapezio\n",
        "!mpirun -np 16 ./bin/mpi_trapezio"
      ],
      "metadata": {
        "id": "8agLmMydHpV6",
        "colab": {
          "base_uri": "https://localhost:8080/"
        },
        "outputId": "7a6026e5-21f3-48cc-f601-dbd3cbe6539b"
      },
      "execution_count": 46,
      "outputs": [
        {
          "output_type": "stream",
          "name": "stdout",
          "text": [
            "Foram gastos 23.6 segundos\r\n",
            "Com n = 10000000000 trapezoides, a estimativa\r\n",
            "da integral de 0.000000 até 1.000000 = 1.718282 \n",
            "Foram gastos 14.0 segundos\n",
            "Com n = 10000000000 trapezoides, a estimativa\n",
            "da integral de 0.000000 até 1.000000 = 1.718282 \n",
            "Foram gastos 8.9 segundos\n",
            "Com n = 10000000000 trapezoides, a estimativa\n",
            "da integral de 0.000000 até 1.000000 = 1.718282 \n",
            "Foram gastos 8.7 segundos\n",
            "Com n = 10000000000 trapezoides, a estimativa\n",
            "da integral de 0.000000 até 1.000000 = 1.718282 \n",
            "Foram gastos 10.0 segundos\n",
            "Com n = 10000000000 trapezoides, a estimativa\n",
            "da integral de 0.000000 até 1.000000 = 1.718282 \n",
            "Foram gastos 15.5 segundos\n",
            "Com n = 10000000000 trapezoides, a estimativa\n",
            "da integral de 0.000000 até 1.000000 = 1.718282 \n",
            "Foram gastos 10.3 segundos\n",
            "Com n = 10000000000 trapezoides, a estimativa\n",
            "da integral de 0.000000 até 1.000000 = 1.718282 \n"
          ]
        }
      ]
    },
    {
      "cell_type": "markdown",
      "source": [
        "Lembre-se também que o MPI oferece uma operação coletiva de redução, que pode ser utilizada para simplificar o código e otimizar a execução em paralelo.\n",
        "Assim, podemos reescrever as últimas linhas do programa substituindo o laço de envio dos resultados parciais pela rotina de redução, que é uma forma muito mais eficiente para o cálculo do valor final da integral. Copie e altere o código acima para esta nova versão. Compile e execute o código comparando com a versão anterior."
      ],
      "metadata": {
        "id": "FJU-j5LlGiHS"
      }
    },
    {
      "cell_type": "code",
      "source": [
        "%%writefile src/mpi_trapezio_novo.c\n",
        "#include <stdio.h>\n",
        "#include <math.h>\n",
        "#include \"mpi.h\"\n",
        "\n",
        "double f(double x) {\n",
        "        double return_val;\n",
        "        return_val = exp(x); /* Função exponencial */\n",
        "        return return_val;\n",
        "}\n",
        "\n",
        "int main(int argc, char *argv[]) { /* mpi_trapezio.c  */\n",
        "int meu_ranque, num_procs;  /* respectivamente q e p */\n",
        "double a = 0.0,  b = 1.0;   /* Limites da integral */\n",
        "double tempo_inicial, tempo_final; /* Tempo de execução */\n",
        "long int n = 1000000000;     /* Número de trapezoides */\n",
        "double x, h;                /* x e h, a base do trapezoide */\n",
        "double integral=0.0, total; /* Integral de cada processo e total */\n",
        "int origem, destino = 0;    /* Origem e destino das mensagens */\n",
        "int etiq = 3;               /* Uma etiqueta qualquer */\n",
        "\n",
        "    /* Inicia o MPI e determina o ranque e o número de processos ativos  */\n",
        "    MPI_Init(&argc, &argv);\n",
        "    MPI_Comm_rank(MPI_COMM_WORLD, &meu_ranque);\n",
        "    MPI_Comm_size(MPI_COMM_WORLD, &num_procs);\n",
        "    /* h é o mesmo para todos os processos */\n",
        "    h = (b - a)/n;\n",
        "    /* O processo 0 calcula o valor de f(x)/2 em a e b */\n",
        "    if (meu_ranque == 0) {\n",
        "        tempo_inicial = MPI_Wtime();\n",
        "        integral = (f(a) + f(b))/2.0;\n",
        "    }\n",
        "    /* Cada processo calcula a integral aprox. sobre n/num_procs trapézios */\n",
        "    for (x = a+h*(meu_ranque+1); x < b ; x += num_procs*h) {\n",
        "         integral += f(x);\n",
        "    }\n",
        "    integral = integral*h;\n",
        "    /* O processo 0 soma as integrais parciais recebidas */\n",
        "    if (meu_ranque == 0) {\n",
        "        total = integral;\n",
        "        for (origem = 1; origem < num_procs; origem++) {\n",
        "             MPI_Recv(&integral, 1, MPI_DOUBLE, origem, etiq, MPI_COMM_WORLD, MPI_STATUS_IGNORE);\n",
        "             total += integral;\n",
        "        }\n",
        "    }\n",
        "     /* Os demais processos enviam as integrais parciais para o processo 0 */\n",
        "    else {\n",
        "        MPI_Send(&integral, 1, MPI_DOUBLE, destino, etiq, MPI_COMM_WORLD);\n",
        "    }\n",
        "    /* Imprime o resultado */\n",
        "    if (meu_ranque == 0) {\n",
        "        tempo_final = MPI_Wtime();\n",
        "        printf(\"Foram gastos %3.1f segundos\\n\",tempo_final-tempo_inicial);\n",
        "        printf(\"Com n = %ld trapezoides, a estimativa\\n\", n);\n",
        "        printf(\"da integral de %lf até %lf = %lf \\n\", a, b, total);\n",
        "    }\n",
        "    MPI_Finalize();\n",
        "    return(0);\n",
        "}\n"
      ],
      "metadata": {
        "colab": {
          "base_uri": "https://localhost:8080/"
        },
        "id": "8H3tJEa3G96_",
        "outputId": "65ef588b-4b67-4115-cb7f-54d701276d66"
      },
      "execution_count": null,
      "outputs": [
        {
          "output_type": "stream",
          "name": "stdout",
          "text": [
            "Writing src/mpi_trapezio_novo.c\n"
          ]
        }
      ]
    },
    {
      "cell_type": "code",
      "source": [
        "!mpicc src/mpi_trapezio_novo.c -o bin/mpi_trapezio_novo -lm\n",
        "!mpirun -allow-run-as-root -np 4 ./bin/mpi_trapezio_novo"
      ],
      "metadata": {
        "colab": {
          "base_uri": "https://localhost:8080/"
        },
        "id": "WmC_VHFIHVbU",
        "outputId": "acb7b904-0345-4d34-ac24-8e7053b3383a"
      },
      "execution_count": 50,
      "outputs": [
        {
          "output_type": "stream",
          "name": "stdout",
          "text": [
            "Foram gastos 12.8 segundos\r\n",
            "Com n = 10000000000 trapezoides, a estimativa\r\n",
            "da integral de 0.000000 até 1.000000 = 1.718282 \r\n"
          ]
        }
      ]
    },
    {
      "cell_type": "markdown",
      "source": [
        "#Números primos\n",
        "\n",
        "O programa em questão serve para determinar a quantidade de números primos entre 0 e um determinado valor inteiro N.\n",
        "Embora possa parecer um programa trivial a princípio, ele tem algumas particularidades que o tornam um problema interessante.\n",
        "Na matemática, o Teorema do Número Primo (TNP) descreve a distribuição assintótica dos números primos entre os inteiros positivos.\n",
        "Ele formaliza a ideia intuitiva de que os números primos tornam-se menos comuns à medida que N aumenta, quantificando precisamente a taxa em que isso ocorre.\n",
        "<br><br>\n",
        "O que isso implica na programação paralela?\n",
        "Bom, a nossa primeira tentativa de paralelização seria dividir o total de N números igualmente entre os P processadores disponíveis, ou seja, N/P valores para cada uma das threads.\n",
        "No entanto, há uma implicação importante: a distribuição dos números primos não é uniforme entre os inteiros.\n",
        "Isso torna essa abordagem de divisão direta ineficaz, pois as threads que receberem intervalos com uma maior concentração de números primos terão uma carga de trabalho significativamente maior.\n",
        "Isso pode levar a um desequilíbrio no desempenho, com algumas threads concluindo suas tarefas mais rapidamente, enquanto outras permanecem ocupadas, resultando em subutilização dos recursos disponíveis.\n",
        "<br><br>\n",
        "A solução apresentada descarta todos os números pares de início, pois obviamente eles não são primos.\n",
        "Em seguida, é verificado se $N$ é divisível por algum número ímpar entre $0$ e a raiz quadrada de $N$. Por que isso?\n",
        "Se um número composto $N$ pode ser fatorado como $N = a * b$, então pelo menos um dos fatores ($a$ ou $b$) deve ser menor ou igual à raiz quadrada de $N$.\n",
        "Se ambos $a$ e $b$ forem maiores que a raiz quadrada de $N$, então ao multiplicá-los, o resultado seria maior que $N$. Perfeito?\n",
        "<br><br>\n",
        "Uma estratégia mais simples de paralelização seria distribuir as tarefas entre os processos em lote, passando uma faixa contínua de valores para cada processo verificar a quantidade de números primos no intervalo recebido.\n",
        "Mas como já vimos, essa não é uma boa abordagem, pois a distribuição de números primos não é uniforme ao longo do espaço de números inteiros.\n",
        "Um alternativa possível é cada processo verificar alternadamente se cada número ímpar é primo, o que na prática significa que cada processo comece verificando um número ímpar diferente e saltando $num\\_proc$ números ímpares entre cada número ímpar verificado.\n",
        "<br><br>"
      ],
      "metadata": {
        "id": "11Qak8euWlHg"
      }
    },
    {
      "cell_type": "code",
      "source": [
        "!cat src/mpi_primos.c"
      ],
      "metadata": {
        "colab": {
          "base_uri": "https://localhost:8080/"
        },
        "id": "HapxvFn4XiM7",
        "outputId": "dc009f59-52af-4395-ee12-c151dd0022d4"
      },
      "execution_count": null,
      "outputs": [
        {
          "output_type": "stream",
          "name": "stdout",
          "text": [
            "#include <stdio.h>\n",
            "#include <stdlib.h>\n",
            "#include \"mpi.h\"\n",
            "#include <math.h>\n",
            "\n",
            "int primo (long int n) { /* mpi_primos.c  */\n",
            "\tint i;\n",
            "       \n",
            "\tfor (i = 3; i < (int)(sqrt(n) + 1); i+=2) {\n",
            "\t\t\tif(n%i == 0) return 0;\n",
            "\t}\n",
            "\treturn 1;\n",
            "}\n",
            "\n",
            "int main(int argc, char *argv[]) {\n",
            "\tdouble t_inicial, t_final;\n",
            "\tint cont = 0, total = 0;\n",
            "\tlong int i, n;\n",
            "\tint meu_ranque, num_procs, inicio, salto;\n",
            "\n",
            "\tif (argc < 2) {\n",
            "        \tprintf(\"Valor inválido! Entre com um valor do maior inteiro\\n\");\n",
            "       \t \treturn 0;\n",
            "    \t} else {\n",
            "        \tn = strtol(argv[1], (char **) NULL, 10);\n",
            "       \t}\n",
            "\n",
            "\tMPI_Init(&argc, &argv);\n",
            "\tMPI_Comm_rank(MPI_COMM_WORLD, &meu_ranque);\n",
            "\tMPI_Comm_size(MPI_COMM_WORLD, &num_procs);\t\n",
            "    t_inicial = MPI_Wtime();\n",
            "    inicio = 3 + meu_ranque*2;\n",
            "    salto = num_procs*2;\n",
            "\tfor (i = inicio; i <= n; i += salto) \n",
            "\t{\t\n",
            "\t\tif(primo(i) == 1) cont++;\n",
            "\t}\n",
            "\t\t\n",
            "\tif(num_procs > 1) {\n",
            "\t\tMPI_Reduce(&cont, &total, 1, MPI_INT, MPI_SUM, 0, MPI_COMM_WORLD);\n",
            "\t} else {\n",
            "\t\ttotal = cont;\n",
            "\t}\n",
            "\t\n",
            "\tt_final = MPI_Wtime();\n",
            "\n",
            "\tif (meu_ranque == 0) {\n",
            "        total += 1;    /* Acrescenta o dois, que também é primo */\n",
            "\t\tprintf(\"Quant. de primos entre 1 e n: %d \\n\", total);\n",
            "\t\tprintf(\"Tempo de execucao: %1.3f \\n\", t_final - t_inicial);\t \n",
            "\t}\n",
            "\tMPI_Finalize();\n",
            "\treturn(0);\n",
            "}"
          ]
        }
      ]
    },
    {
      "cell_type": "code",
      "source": [
        "!mpicc src/mpi_primos.c -o bin/mpi_primos -lm\n",
        "!mpirun --allow-run-as-root  -np 1 ./bin/mpi_primos 10000000"
      ],
      "metadata": {
        "colab": {
          "base_uri": "https://localhost:8080/"
        },
        "id": "nSYn54cwZisZ",
        "outputId": "077059fa-b126-4ecd-f140-52c3e15204d2"
      },
      "execution_count": null,
      "outputs": [
        {
          "output_type": "stream",
          "name": "stdout",
          "text": [
            "Quant. de primos entre 1 e n: 664579 \n",
            "Tempo de execucao: 12.209 \n"
          ]
        }
      ]
    },
    {
      "cell_type": "markdown",
      "source": [
        "#Multiplicação matriz-vetor\n",
        "\n",
        "Um outro estudo de caso que faremos é a multiplicação de uma matriz por um vetor, que tem como resultado um vetor.\n",
        "\n",
        "Note que cada elemento do vetor resultado é o produto escalar de uma linha da matriz com o vetor de entrada.\n",
        "\n",
        "Há várias maneiras de decompor o problema e distribuir os dados entre os diversos processos. Cada uma dessas formas de decomposição tem as suas vantagens e desvantagens, além de complexidades distintas.\n",
        "Por simplicidade, vamos assumir que utilizaremos a primeira alternativa de distribuição de dados, com cada processo possuindo um bloco de linhas da matriz A e os vetores b e c replicados em cada processo."
      ],
      "metadata": {
        "id": "QadhT6bIaMuS"
      }
    },
    {
      "cell_type": "code",
      "source": [
        "!cat src/mpi_mxv.c"
      ],
      "metadata": {
        "colab": {
          "base_uri": "https://localhost:8080/"
        },
        "id": "rIon7WJWarLu",
        "outputId": "275ed2d6-1dc6-404e-cd23-3056a7f13f7c"
      },
      "execution_count": null,
      "outputs": [
        {
          "output_type": "stream",
          "name": "stdout",
          "text": [
            "#include <stdio.h>\n",
            "#include <stdlib.h>\n",
            "#include \"mpi.h\" \n",
            "\n",
            "void mxv(int n, double* A, double* b, double* c);\n",
            "\n",
            "int main(int argc, char *argv[]) { /* mpi_mxv.c  */\n",
            "double *A,*Aloc, *b,*c;\n",
            "/* matriz m x n por um vetor de dimensão n */\n",
            "int i, j, m, n;                     \n",
            "int meu_ranque, num_procs, raiz=0;\n",
            "double start, finish, loc_elapsed, elapsed;\n",
            "\n",
            "   MPI_Init(&argc, &argv);\n",
            "   MPI_Comm_rank(MPI_COMM_WORLD, &meu_ranque);\n",
            "   MPI_Comm_size(MPI_COMM_WORLD, &num_procs);\n",
            "   \n",
            "   if (meu_ranque == 0) {\n",
            "      printf(\"Por favor entre com n: \\n\");\n",
            "      scanf(\"%d\",&n);\n",
            "      printf(\"\\n\");\n",
            "    }\n",
            "   \n",
            "    m = num_procs;\n",
            "\n",
            "    MPI_Bcast(&n, 1, MPI_INT, raiz, MPI_COMM_WORLD);\n",
            "\n",
            "    if (meu_ranque == 0) {\n",
            "        printf(\"Valor de m: %d e  n: %d \\n\", m,n);\n",
            "        A=(double*) malloc(m*n*sizeof(double));\n",
            "        Aloc=(double *)malloc(m*n*sizeof(double));\n",
            "        b=(double*) malloc(n*sizeof(double));\n",
            "        c=(double*) malloc(m*sizeof(double));\n",
            "     } else {\n",
            "        Aloc=(double *) malloc(n*sizeof(double));\n",
            "        b=(double*) malloc(n*sizeof(double));\n",
            "        c=(double*) malloc(sizeof(double));\n",
            "     }    \n",
            "\n",
            "     if (meu_ranque == 0) {\n",
            "         printf(\"Atribuindo valor inicial à matriz A e ao vetor b\\n\");\n",
            "         for (j = 0; j < n; j++)\n",
            "              b[j] = 2.0;\n",
            "         for (i = 0; i < m; i++)\n",
            "              for (j = 0; j < n; j++)\n",
            "                  A[i*n + j] = (double) i;\n",
            "     }\n",
            "     /* Difunde o vetor b para todos os processos */\n",
            "     MPI_Bcast(&b[0],n,MPI_DOUBLE,raiz, MPI_COMM_WORLD);\n",
            "\n",
            "     /* Distribui as linhas da matriz A entre todos os processos */\n",
            "     MPI_Scatter(A, n, MPI_DOUBLE, Aloc, n, MPI_DOUBLE,raiz, MPI_COMM_WORLD);\n",
            "     \n",
            "     start = MPI_Wtime();\n",
            "     (void) mxv(n, Aloc, b, c);\n",
            "\n",
            "     MPI_Gather(c, 1, MPI_DOUBLE, c, 1, MPI_DOUBLE, raiz, MPI_COMM_WORLD);\n",
            "     finish = MPI_Wtime();\n",
            "     loc_elapsed = finish-start;\n",
            "     MPI_Reduce(&loc_elapsed, &elapsed, 1, MPI_DOUBLE, MPI_MAX, 0, MPI_COMM_WORLD);  \n",
            "\n",
            "     if (meu_ranque == 0) {\n",
            "        printf(\"Tempo total = %e\\n\", elapsed);\n",
            "     }\n",
            "     free(A);\n",
            "     free(Aloc);\n",
            "     free(b);\n",
            "     free(c);\n",
            "     \n",
            "     MPI_Finalize();\n",
            "     return(0);\n",
            "}\n",
            "\n",
            "void mxv(int n, double* A, double* b, double* c) {\n",
            "int j;\n",
            "      c[0] = 0.0;\n",
            "      for (j = 0; j < n; j++)\n",
            "           c[0] += A[j]*b[j];\n",
            "}"
          ]
        }
      ]
    },
    {
      "cell_type": "code",
      "source": [
        "!mpicc src/mpi_mxv.c -o bin/mpi_mxv -lm\n",
        "!echo 10000 | mpirun --allow-run-as-root  -np 1 ./bin/mpi_mxv"
      ],
      "metadata": {
        "colab": {
          "base_uri": "https://localhost:8080/"
        },
        "id": "wYapj-rea1ZR",
        "outputId": "c63e59f3-b0ff-418f-d88d-42b2a80602dd"
      },
      "execution_count": null,
      "outputs": [
        {
          "output_type": "stream",
          "name": "stdout",
          "text": [
            "Por favor entre com n: \n",
            "\n",
            "Valor de m: 1 e  n: 10000 \n",
            "Atribuindo valor inicial à matriz A e ao vetor b\n",
            "Tempo total = 4.720500e-05\n"
          ]
        }
      ]
    }
  ]
}