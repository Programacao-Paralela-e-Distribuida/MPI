{
  "nbformat": 4,
  "nbformat_minor": 0,
  "metadata": {
    "colab": {
      "provenance": [],
      "gpuType": "V28"
    },
    "kernelspec": {
      "name": "python3",
      "display_name": "Python 3"
    },
    "language_info": {
      "name": "python"
    },
    "accelerator": "TPU"
  },
  "cells": [
    {
      "cell_type": "markdown",
      "source": [
        "#Introdução\n",
        "O ambiente Colab, por padrão, compila e executa códigos em python. Entretanto, vamos utilizá-lo para executar programas em linguagem \"C\" com uso de uma biblioteca MPI. Devemos ter certeza que os pacotes necessários estão instalados. A principio, os seguintes pacotes serão necessários:\n",
        "\n",
        "- gcc\n",
        "- openmpi\n",
        "\n",
        "Altere o tipo de ambiente de execução para v2-8 TPU. Em caso de dúvidas utilize o apoio do assistente de IA Gemini.\n"
      ],
      "metadata": {
        "id": "ujRKBEKXCE1K"
      }
    },
    {
      "cell_type": "code",
      "source": [
        "!gcc --version"
      ],
      "metadata": {
        "colab": {
          "base_uri": "https://localhost:8080/"
        },
        "id": "hgUVSlVPCv7X",
        "outputId": "b555d83b-1a21-411a-f74d-e44b5ef81f8d"
      },
      "execution_count": null,
      "outputs": [
        {
          "output_type": "stream",
          "name": "stdout",
          "text": [
            "gcc (Ubuntu 11.4.0-1ubuntu1~22.04) 11.4.0\n",
            "Copyright (C) 2021 Free Software Foundation, Inc.\n",
            "This is free software; see the source for copying conditions.  There is NO\n",
            "warranty; not even for MERCHANTABILITY or FITNESS FOR A PARTICULAR PURPOSE.\n",
            "\n"
          ]
        }
      ]
    },
    {
      "cell_type": "code",
      "source": [
        "!mpicc --version"
      ],
      "metadata": {
        "colab": {
          "base_uri": "https://localhost:8080/"
        },
        "id": "cd1gkkF2D_oE",
        "outputId": "d7716ac5-0289-4601-a7e9-e32fd5f61138"
      },
      "execution_count": null,
      "outputs": [
        {
          "output_type": "stream",
          "name": "stdout",
          "text": [
            "gcc (Ubuntu 11.4.0-1ubuntu1~22.04) 11.4.0\n",
            "Copyright (C) 2021 Free Software Foundation, Inc.\n",
            "This is free software; see the source for copying conditions.  There is NO\n",
            "warranty; not even for MERCHANTABILITY or FITNESS FOR A PARTICULAR PURPOSE.\n",
            "\n"
          ]
        }
      ]
    },
    {
      "cell_type": "code",
      "execution_count": null,
      "metadata": {
        "colab": {
          "base_uri": "https://localhost:8080/"
        },
        "id": "6bfYkpINBiLj",
        "outputId": "70801114-c025-4a00-abdd-67a76d14ccc7"
      },
      "outputs": [
        {
          "output_type": "stream",
          "name": "stdout",
          "text": [
            "Reading package lists... Done\n",
            "Building dependency tree... Done\n",
            "Reading state information... Done\n",
            "The following NEW packages will be installed:\n",
            "  openmpi-doc\n",
            "0 upgraded, 1 newly installed, 0 to remove and 49 not upgraded.\n",
            "Need to get 1,072 kB of archives.\n",
            "After this operation, 4,268 kB of additional disk space will be used.\n",
            "Get:1 http://archive.ubuntu.com/ubuntu jammy/universe amd64 openmpi-doc all 4.1.2-2ubuntu1 [1,072 kB]\n",
            "Fetched 1,072 kB in 0s (4,686 kB/s)\n",
            "debconf: unable to initialize frontend: Dialog\n",
            "debconf: (No usable dialog-like program is installed, so the dialog based frontend cannot be used. at /usr/share/perl5/Debconf/FrontEnd/Dialog.pm line 78, <> line 1.)\n",
            "debconf: falling back to frontend: Readline\n",
            "debconf: unable to initialize frontend: Readline\n",
            "debconf: (This frontend requires a controlling tty.)\n",
            "debconf: falling back to frontend: Teletype\n",
            "dpkg-preconfigure: unable to re-open stdin: \n",
            "Selecting previously unselected package openmpi-doc.\n",
            "(Reading database ... 123632 files and directories currently installed.)\n",
            "Preparing to unpack .../openmpi-doc_4.1.2-2ubuntu1_all.deb ...\n",
            "Unpacking openmpi-doc (4.1.2-2ubuntu1) ...\n",
            "Setting up openmpi-doc (4.1.2-2ubuntu1) ...\n",
            "Processing triggers for man-db (2.10.2-1) ...\n"
          ]
        }
      ],
      "source": [
        "!sudo apt install openmpi-doc"
      ]
    },
    {
      "cell_type": "markdown",
      "source": [
        "Em seguida, vamos importar os arquivos a serem utilizados no curso do repositório https://github.com/Programacao-Paralela-e-Distribuida/MPI . Depois organizar os arquivos adequadamente para nossos exemplos."
      ],
      "metadata": {
        "id": "OOZ2zfTFK11P"
      }
    },
    {
      "cell_type": "code",
      "source": [
        "!git clone https://github.com/Programacao-Paralela-e-Distribuida/MPI"
      ],
      "metadata": {
        "colab": {
          "base_uri": "https://localhost:8080/"
        },
        "id": "hYtmr_LOHIrd",
        "outputId": "2a606225-d5b6-4889-f9dd-96c8b8933436"
      },
      "execution_count": null,
      "outputs": [
        {
          "output_type": "stream",
          "name": "stdout",
          "text": [
            "Cloning into 'MPI'...\n",
            "remote: Enumerating objects: 142, done.\u001b[K\n",
            "remote: Counting objects: 100% (22/22), done.\u001b[K\n",
            "remote: Compressing objects: 100% (17/17), done.\u001b[K\n",
            "remote: Total 142 (delta 8), reused 5 (delta 5), pack-reused 120 (from 1)\u001b[K\n",
            "Receiving objects: 100% (142/142), 3.94 MiB | 16.02 MiB/s, done.\n",
            "Resolving deltas: 100% (73/73), done.\n"
          ]
        }
      ]
    },
    {
      "cell_type": "code",
      "source": [
        "!mv MPI/* .\n",
        "!rm -rf MPI\n",
        "!ls -l"
      ],
      "metadata": {
        "colab": {
          "base_uri": "https://localhost:8080/"
        },
        "id": "B4X0oQTkHU5D",
        "outputId": "c715da5e-3416-49a4-c58a-9b26751a5c2d"
      },
      "execution_count": null,
      "outputs": [
        {
          "output_type": "stream",
          "name": "stdout",
          "text": [
            "total 36\n",
            "drwxr-xr-x 2 root root  4096 Jan 14 14:27 bin\n",
            "drwxr-xr-x 2 root root  4096 Jan 14 14:27 docs\n",
            "-rw-r--r-- 1 root root   547 Jan 14 14:27 Makefile\n",
            "-rw-r--r-- 1 root root 13256 Jan 14 14:27 README.md\n",
            "drwxr-xr-x 1 root root  4096 Jan  9 14:19 sample_data\n",
            "drwxr-xr-x 2 root root  4096 Jan 14 14:27 src\n"
          ]
        }
      ]
    },
    {
      "cell_type": "markdown",
      "source": [
        "#Funções auxiliares\n",
        "No exemplo a seguir, fazemos uso de algumas funções de serviço do MPI, como por exemplo, **MPI_Abort()** para abortar um programa;  **MPI_Get_version()** para\n",
        "identificar a versão do MPI; **MPI_Get_processor_name()** para recuperar o nome do computador.\n",
        "\n",
        "A função **MPI_Init()** permite que o sistema realize as operações de preparação necessárias para que a biblioteca MPI seja utilizada.\n",
        "Ao término do programa a função **MPI_Finalize()** deve ser chamada.  \n",
        "\n",
        "Neste exemplo, a função **MPI_Comm_Rank()** retorna o *ranque* (rank) de um processo no seu segundo argumento.  O número de processos executando o programa pode ser obtido com a função **MPI_Comm_size()**."
      ],
      "metadata": {
        "id": "A9pa6FSVLCKI"
      }
    },
    {
      "cell_type": "code",
      "source": [
        "!cat src/mpi_funcoes.c"
      ],
      "metadata": {
        "colab": {
          "base_uri": "https://localhost:8080/"
        },
        "id": "09JdZ_m0Cztz",
        "outputId": "03718ec9-9033-4067-cb2a-47d791b9ba96"
      },
      "execution_count": null,
      "outputs": [
        {
          "output_type": "stream",
          "name": "stdout",
          "text": [
            "#include <stdio.h>\n",
            "#include \"mpi.h\"\n",
            "\n",
            "int main(int argc, char *argv[]) { /* mpi_funcoes.c  */\n",
            "int meu_ranque, num_procs; \n",
            "int versao, subversao,  aux, ret;\n",
            "char maquina[MPI_MAX_PROCESSOR_NAME];\n",
            "    /* Inicia o MPI. Em caso de erro aborta o programa */\n",
            "    ret = MPI_Init(&argc, &argv);\n",
            "    if (ret != MPI_SUCCESS) {\n",
            "        printf(\"Erro ao iniciar o programa MPI. Abortando.\\n\");\n",
            "        MPI_Abort(MPI_COMM_WORLD, ret);\n",
            "    }\n",
            "    /* Imprime a versão e subversão da biblioteca MPI */\n",
            "    MPI_Get_version(&versao,&subversao);\n",
            "    printf(\"Versão do MPI  = %d Subversão = %d \\n\", versao, subversao);\n",
            "    /* Obtém o ranque e número de processos em execução */\n",
            "    MPI_Comm_size(MPI_COMM_WORLD, &num_procs);\n",
            "    MPI_Comm_rank(MPI_COMM_WORLD, &meu_ranque);\n",
            "    /* Define o nome do computador onde o processo está executando */\n",
            "    MPI_Get_processor_name(maquina, &aux);\n",
            "    printf(\"Número de tarefas = %d Meu ranque = %d Executando em  %s\\n\", num_procs, meu_ranque, maquina);\n",
            "    /* Finaliza o MPI */\n",
            "    MPI_Finalize();\n",
            "    return(0);\n",
            "}"
          ]
        }
      ]
    },
    {
      "cell_type": "code",
      "source": [
        "!mpicc -o ./bin/mpi_funcoes ./src/mpi_funcoes.c\n",
        "!mpirun --allow-run-as-root -np 4 ./bin/mpi_funcoes"
      ],
      "metadata": {
        "colab": {
          "base_uri": "https://localhost:8080/"
        },
        "id": "yTLA2jACDDzA",
        "outputId": "30c6695b-0df4-4644-c2c1-ff330f2337a7"
      },
      "execution_count": null,
      "outputs": [
        {
          "output_type": "stream",
          "name": "stdout",
          "text": [
            "Versão do MPI  = 3 Subversão = 1 \n",
            "Número de tarefas = 4 Meu ranque = 2 Executando em  db785faa09c2\n",
            "Versão do MPI  = 3 Subversão = 1 \n",
            "Número de tarefas = 4 Meu ranque = 3 Executando em  db785faa09c2\n",
            "Versão do MPI  = 3 Subversão = 1 \n",
            "Número de tarefas = 4 Meu ranque = 0 Executando em  db785faa09c2\n",
            "Versão do MPI  = 3 Subversão = 1 \n",
            "Número de tarefas = 4 Meu ranque = 1 Executando em  db785faa09c2\n"
          ]
        }
      ]
    },
    {
      "cell_type": "markdown",
      "source": [
        "#Medindo o tempo de execução\n",
        "\n",
        "A função **MPI_Wtime()** retorna (em precisão dupla) o tempo total em segundos decorrido desde um instante determinado no passado. Esse instante é dependente de implementação, mas deve sempre o mesmo para uma dada implementação. A função **MPI_Wtick()** retorna (em precisão dupla) a resolução em segundos  da função **MPI_Wtime()**. Um exemplo de uso dessas funções pode ser visto a seguir.\n",
        "\n"
      ],
      "metadata": {
        "id": "0VDBgP3RK7eR"
      }
    },
    {
      "cell_type": "code",
      "source": [
        "!cat src/mpi_wtime.c"
      ],
      "metadata": {
        "colab": {
          "base_uri": "https://localhost:8080/"
        },
        "id": "BAIcxD7SNbOe",
        "outputId": "360c17d9-e54a-472c-c4e7-784c323e0006"
      },
      "execution_count": null,
      "outputs": [
        {
          "output_type": "stream",
          "name": "stdout",
          "text": [
            "#include \"mpi.h\"\n",
            "#include <stdio.h>\n",
            "int main(int argc, char *argv[]) { /* mpi_wtime.c */\n",
            "  // ...\n",
            "double tempo_inicial, tempo_final, a;\n",
            "tempo_inicial = MPI_Wtime();\n",
            "/* Realiza um trabalho qualquer */\n",
            "    for (long int i = 0; i < 100000000000; i++) {\n",
            "\t    a = (double) i;\n",
            "    } \n",
            " // ...\n",
            "tempo_final = MPI_Wtime();\n",
            "printf(\"Foram gastos %3.6f segundos para calcular a = %3.0f com precisão de  %3.3e segundos\\n\",tempo_final-tempo_inicial, a, MPI_Wtick ());\n",
            "return(0);\n",
            "}\n"
          ]
        }
      ]
    },
    {
      "cell_type": "code",
      "source": [
        "!mpicc -o ./bin/mpi_wtime ./src/mpi_wtime.c\n",
        "!mpirun --allow-run-as-root -np 2 ./bin/mpi_wtime"
      ],
      "metadata": {
        "colab": {
          "base_uri": "https://localhost:8080/"
        },
        "id": "OPRH4JLYPRsa",
        "outputId": "ba42d804-f408-40c4-f4c5-695748dfab45"
      },
      "execution_count": null,
      "outputs": [
        {
          "output_type": "stream",
          "name": "stdout",
          "text": [
            "Foram gastos 22.563738 segundos para calcular a = 9999999999 com precisão de  1.000e-09 segundos\n",
            "Foram gastos 22.616066 segundos para calcular a = 9999999999 com precisão de  1.000e-09 segundos\n"
          ]
        }
      ]
    },
    {
      "cell_type": "markdown",
      "source": [],
      "metadata": {
        "id": "_yWtDAAcQQ_Y"
      }
    },
    {
      "cell_type": "markdown",
      "source": [
        "# Exemplo simples\n",
        "\n",
        "A seguir apresentamos um exemplo simples de programa MPI. Para sua execução o comando a ser utilizado é o *mpicc* que faz a ligação automática com os arquivos de cabeçalho e bibliotecas necessários para a compilação. **MPI_Send()** e **MPI_Recv()** são utilizados, respectivamente, para enviar e receber as mensagens. Reforçando que **MPI_Init()** e **MPI_Finalize()** devem ser utilizados para iniciar e terminar o trecho com chamadas para funções de MPI. Mais uma vez, a função **MPI_Comm_Rank()** retorna o ranque (rank) de um processo no seu segundo argumento. O número de processos executando o programa pode ser obtido com a função **MPI_Comm_size()**."
      ],
      "metadata": {
        "id": "f5tvHuvYEJe_"
      }
    },
    {
      "cell_type": "code",
      "source": [
        "!cat ./src/mpi_simples.c"
      ],
      "metadata": {
        "colab": {
          "base_uri": "https://localhost:8080/"
        },
        "id": "o7G606SlJvAW",
        "outputId": "96431497-dbf6-44e6-8bec-61c5e2779357"
      },
      "execution_count": null,
      "outputs": [
        {
          "output_type": "stream",
          "name": "stdout",
          "text": [
            "#include <stdio.h>\n",
            "#include <string.h>\n",
            "#include \"mpi.h\"\n",
            "\n",
            "int main(int argc, char *argv[]) { /* mpi_simples.c  */\n",
            "int meu_ranque, num_procs;\n",
            "int origem, destino, etiq = 0;\n",
            "char mensagem[200];\n",
            "MPI_Status estado;\n",
            "    /* Chamada inicial para o MPI */\n",
            "    MPI_Init(&argc, &argv);\n",
            "    /* Determina ranque e número de processos em execução */\n",
            "    MPI_Comm_rank(MPI_COMM_WORLD, &meu_ranque);\n",
            "    MPI_Comm_size(MPI_COMM_WORLD, &num_procs);\n",
            "    /* Todos os processos com ranque diferente de 0 enviam uma mensagem */\n",
            "    if (meu_ranque != 0) {\n",
            "        sprintf(mensagem, \"Processo %d está vivo!\", meu_ranque);\n",
            "        destino = 0;\n",
            "        MPI_Send(mensagem, strlen(mensagem)+1, MPI_CHAR, destino, etiq, MPI_COMM_WORLD);\n",
            "    } \n",
            "    /* Processo com ranque 0 recebe num_procs-1 mensagens */\n",
            "    else {\n",
            "        for (origem = 1; origem < num_procs; origem++) {\n",
            "            MPI_Recv(mensagem, 200, MPI_CHAR, origem, etiq, MPI_COMM_WORLD, &estado);\n",
            "    /* Imprime as mensagens recebidas */\n",
            "            printf(\"%s\\n\",mensagem); \n",
            "        }\n",
            "    } \n",
            "    MPI_Finalize();\n",
            "    return(0);\n",
            "}"
          ]
        }
      ]
    },
    {
      "cell_type": "code",
      "source": [
        "!mpicc -o bin/mpi_simples src/mpi_simples.c\n",
        "!mpirun --allow-run-as-root -np 4 ./bin/mpi_simples"
      ],
      "metadata": {
        "colab": {
          "base_uri": "https://localhost:8080/"
        },
        "id": "NRHa9zGXLNUK",
        "outputId": "7fcd6381-7170-426b-891d-cef6906a9beb"
      },
      "execution_count": null,
      "outputs": [
        {
          "output_type": "stream",
          "name": "stdout",
          "text": [
            "Processo 1 está vivo!\n",
            "Processo 2 está vivo!\n",
            "Processo 3 está vivo!\n"
          ]
        }
      ]
    },
    {
      "cell_type": "markdown",
      "source": [
        "A informação sobre a recepção de mensagem com o uso de um coringa  é retornada pela função MPI_Recv em uma estrutura do tipo “MPI_Status”.\n",
        "Essa estrutura tem diversos usos, por exemplo, para saber o total de elementos recebidos com uso da rotina\n",
        "**int MPI_Get_count(MPI_Status *status, MPI_Datatype datatype, int *count)**\n",
        "\n",
        "No programa a seguir, o proceso com ranque 0 envia uma quantidade aleatória de inteiros para o processo 1. Ao receber a mensagem, o processo 1 utilizar a estrutura *estado* (do tipo **MPI_Status**) e a função **MPI_Get_count()** para determinar a quantidade de elementos recebidos na mensagem."
      ],
      "metadata": {
        "id": "5-0-53x9ZGyn"
      }
    },
    {
      "cell_type": "code",
      "source": [
        "!cat src/mpi_status.c"
      ],
      "metadata": {
        "colab": {
          "base_uri": "https://localhost:8080/"
        },
        "id": "sz47jggRZ6Hk",
        "outputId": "d39ec1df-c54c-4b97-b85a-8f7d87312aa3"
      },
      "execution_count": null,
      "outputs": [
        {
          "output_type": "stream",
          "name": "stdout",
          "text": [
            "#include <stdio.h>\n",
            "#include <stdlib.h>\n",
            "#include \"mpi.h\"\n",
            "#define MAX 100\n",
            "\n",
            "int main(int argc, char *argv[]) { /* mpi_status.c  */\n",
            "int meu_ranque, total_num, etiq = 0;\n",
            "int origem=0, destino=1, numeros[MAX];\n",
            "MPI_Status estado;\n",
            "    \n",
            "    MPI_Init(&argc, &argv);\n",
            "    MPI_Comm_rank(MPI_COMM_WORLD, &meu_ranque);\n",
            "    if (meu_ranque == origem) {\n",
            "    /* Escolhe uma quantidade aleatória de inteiros para enviar para o processo 1 */\n",
            "        srand(MPI_Wtime());\n",
            "        total_num = (rand() / (float)RAND_MAX) * MAX;\n",
            "    /* Envia a quantidade de inteiros para o processo 1 */\n",
            "        MPI_Send(numeros, total_num, MPI_INT, destino, etiq, MPI_COMM_WORLD);\n",
            "        printf(\"Processo %d enviou %d números para 1\\n\", origem, total_num);\n",
            "    } \n",
            "    else \n",
            "        if (meu_ranque == destino) {\n",
            "    /* Recebe no máximo MAX números do processo 0 */\n",
            "            MPI_Recv(numeros, MAX, MPI_INT, origem, etiq, MPI_COMM_WORLD, &estado);\n",
            "    /* Quando chega a mensagem, verifica o status para determinar quantos números foram realmente recebidos */\n",
            "            MPI_Get_count(&estado, MPI_INT, &total_num);\n",
            "    /* Imprime a quantidade de números e a informação\n",
            "     adicional que está no manipulador \"estado\" */\n",
            "            printf(\"Processo %d recebeu %d números. Origem da mensagem = %d, etiqueta = %d\\n\", destino, total_num, estado.MPI_SOURCE, estado.MPI_TAG);\n",
            "        }\n",
            "    MPI_Finalize();           \n",
            "    return(0);\n",
            "}\n"
          ]
        }
      ]
    },
    {
      "cell_type": "code",
      "source": [
        "!mpicc -o bin/mpi_status src/mpi_status.c\n",
        "!mpirun --allow-run-as-root -np 4 ./bin/mpi_status"
      ],
      "metadata": {
        "colab": {
          "base_uri": "https://localhost:8080/"
        },
        "id": "GNjPg2twarfF",
        "outputId": "65e752bb-3df7-4844-959e-f8a204872fb2"
      },
      "execution_count": null,
      "outputs": [
        {
          "output_type": "stream",
          "name": "stdout",
          "text": [
            "Processo 1 recebeu 84 números. Origem da mensagem = 0, etiqueta = 0\n",
            "Processo 0 enviou 84 números para 1\n"
          ]
        }
      ]
    }
  ]
}